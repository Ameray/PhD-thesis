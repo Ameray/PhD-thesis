{
 "cells": [
  {
   "cell_type": "code",
   "execution_count": 1,
   "id": "d887d0cd",
   "metadata": {},
   "outputs": [
    {
     "name": "stdout",
     "output_type": "stream",
     "text": [
      "Requirement already satisfied: dbfread in c:\\users\\14183\\anaconda3\\lib\\site-packages (2.0.7)\n",
      "Note: you may need to restart the kernel to use updated packages.\n"
     ]
    }
   ],
   "source": [
    "from dbfread import DBF # You need to install dbfread package.\n",
    "import pandas as pd\n",
    "import numpy as np"
   ]
  },
  {
   "cell_type": "code",
   "execution_count": 2,
   "id": "22be1fbe",
   "metadata": {},
   "outputs": [],
   "source": [
    "dbf = DBF('directory/soil_texture.dbf')\n",
    "dbf3=pd.DataFrame(dbf)\n",
    "dbf3\n",
    "dbf3.to_csv('directory/soilCN.csv') #export your dbf to csv file"
   ]
  },
  {
   "cell_type": "code",
   "execution_count": 3,
   "id": "fdba8b1c",
   "metadata": {},
   "outputs": [],
   "source": [
    "import pandas as pd\n",
    "\n",
    "# Open and read the CSV file\n",
    "file_path = 'directory/soilCN.csv'\n",
    "data = pd.read_csv(file_path)\n",
    "\n",
    "# Initialize an empty list for storing texture classifications\n",
    "texture = []\n",
    "\n",
    "# Loop through the rows of the DataFrame\n",
    "for i in range(len(data)):\n",
    "    k1, k2, k3 = data.loc[i, 'clay'], data.loc[i, 'silt'], data.loc[i, 'sand']\n",
    "\n",
    "    # Texture classification conditions\n",
    "    if 60 < k1 < 100 and 0 < k2 < 40 and 0 < k3 < 45:\n",
    "        texture.append(\"A\")  # heavy clay \n",
    "    elif 40 < k1 < 60 and 40 < k2 < 60 and 0 < k3 < 20:\n",
    "        texture.append(\"B\")  # silty clay \n",
    "    elif 40 < k1 < 60 and 40 < k2 < 60 and 0 < k3 < 45:  \n",
    "        texture.append(\"C\")  # clay\n",
    "    elif 27 < k1 < 40 and 40 < k2 < 73 and 0 < k3 < 20:\n",
    "        texture.append(\"D\")  # silty clay loam \n",
    "    elif 27 < k1 < 40 and 15 < k2 < 52 and 20 < k3 < 45:\n",
    "        texture.append(\"E\")  # clay loam \n",
    "    elif 0 < k1 < 12 and 88 < k2 < 100 and 0 < k3 < 20:\n",
    "        texture.append(\"F\")  # silt\n",
    "    elif 0 < k1 < 27 and 74 < k2 < 88 and 20 < k3 < 50:\n",
    "        texture.append(\"G\")  # silty loam \n",
    "    elif 35 < k1 < 55 and 0 < k2 < 20 and 45 < k3 < 65:\n",
    "        texture.append(\"H\")  # sandy clay\n",
    "    elif 7 < k1 < 27 and 28 < k2 < 50 and 23 < k3 < 52:\n",
    "        texture.append(\"I\")  # loam\n",
    "    elif 20 < k1 < 35 and 0 < k2 < 28 and 45 < k3 < 80:\n",
    "        texture.append(\"J\")  # sandy clay loam  \n",
    "    elif 0 < k1 < 20 and 0 < k2 < 50 and 50 < k3 < 70:\n",
    "        texture.append(\"K\")  # sandy loam \n",
    "    elif 0 < k1 < 15 and 0 < k2 < 30 and 70 < k3 < 86:\n",
    "        texture.append(\"L\")  # loamy sand \n",
    "    elif 0 < k1 < 10 and 0 < k2 < 14 and 86 < k3 < 100:\n",
    "        texture.append(\"M\")  # sand\n",
    "    else:\n",
    "        texture.append(\"N\")  # No corresponding classification\n",
    "\n",
    "# Add a new column for texture to the DataFrame\n",
    "data[\"new_texture\"] = texture\n",
    "\n",
    "# Save the updated DataFrame to a new CSV file\n",
    "data.to_csv('directory/soilCN_classified.csv', index=False)\n",
    "\n"
   ]
  },
  {
   "cell_type": "code",
   "execution_count": 4,
   "id": "82a25299",
   "metadata": {},
   "outputs": [],
   "source": [
    "\n"
   ]
  },
  {
   "cell_type": "code",
   "execution_count": null,
   "id": "4fef5e1f",
   "metadata": {},
   "outputs": [],
   "source": []
  },
  {
   "cell_type": "code",
   "execution_count": null,
   "id": "5585f716",
   "metadata": {},
   "outputs": [],
   "source": []
  },
  {
   "cell_type": "code",
   "execution_count": null,
   "id": "9ec3e7a7",
   "metadata": {},
   "outputs": [],
   "source": []
  }
 ],
 "metadata": {
  "kernelspec": {
   "display_name": "Python 3 (ipykernel)",
   "language": "python",
   "name": "python3"
  },
  "language_info": {
   "codemirror_mode": {
    "name": "ipython",
    "version": 3
   },
   "file_extension": ".py",
   "mimetype": "text/x-python",
   "name": "python",
   "nbconvert_exporter": "python",
   "pygments_lexer": "ipython3",
   "version": "3.10.9"
  }
 },
 "nbformat": 4,
 "nbformat_minor": 5
}
